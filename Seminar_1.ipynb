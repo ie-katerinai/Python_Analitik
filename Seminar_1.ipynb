{
  "nbformat": 4,
  "nbformat_minor": 0,
  "metadata": {
    "colab": {
      "provenance": [],
      "authorship_tag": "ABX9TyPNwrOpqFa16FViVSSLAHth",
      "include_colab_link": true
    },
    "kernelspec": {
      "name": "python3",
      "display_name": "Python 3"
    },
    "language_info": {
      "name": "python"
    }
  },
  "cells": [
    {
      "cell_type": "markdown",
      "metadata": {
        "id": "view-in-github",
        "colab_type": "text"
      },
      "source": [
        "<a href=\"https://colab.research.google.com/github/ie-katerinai/Python_Analitik/blob/main/Seminar_1.ipynb\" target=\"_parent\"><img src=\"https://colab.research.google.com/assets/colab-badge.svg\" alt=\"Open In Colab\"/></a>"
      ]
    },
    {
      "cell_type": "markdown",
      "source": [
        "##Задача 1\n",
        "\n",
        "###1.1\n",
        "\n",
        " Соедините два словаря в один. dict1 = {'One': 1, 'Two': 2, 'Three': 3} dict2 = {'Four': 4, 'Five': 5, 'Six': 6}"
      ],
      "metadata": {
        "id": "4K6jiOVIKf2S"
      }
    },
    {
      "cell_type": "code",
      "execution_count": 5,
      "metadata": {
        "colab": {
          "base_uri": "https://localhost:8080/"
        },
        "id": "dLA5CjAQHc2y",
        "outputId": "94beff45-edc3-48b9-8c49-8eb27aba60ee"
      },
      "outputs": [
        {
          "output_type": "execute_result",
          "data": {
            "text/plain": [
              "{'One': 1, 'Two': 2, 'Three': 3, 'Four': 4, 'Five': 5, 'Six': 6}"
            ]
          },
          "metadata": {},
          "execution_count": 5
        }
      ],
      "source": [
        "dict1 = {'One': 1, 'Two': 2, 'Three': 3}\n",
        "dict2 = {'Four': 4, 'Five': 5, 'Six': 6}\n",
        "dict1.update(dict2)\n",
        "dict1"
      ]
    },
    {
      "cell_type": "markdown",
      "source": [
        "###1.2\n",
        "\n",
        "Напишите функцию, которая на вход принимает два словаря и возвращает один объединенный словарь. Используйте аннотирование типов."
      ],
      "metadata": {
        "id": "pOhW3XywLVYL"
      }
    },
    {
      "cell_type": "code",
      "source": [
        "def dict_sum(d1: dict, d2: dict)->dict:\n",
        "  d1.update(d2)\n",
        "  return d1"
      ],
      "metadata": {
        "id": "6Vhw5ifiLZJU"
      },
      "execution_count": 6,
      "outputs": []
    },
    {
      "cell_type": "code",
      "source": [
        "dict_sum(dict1, dict2)"
      ],
      "metadata": {
        "colab": {
          "base_uri": "https://localhost:8080/"
        },
        "id": "nkgGgmuJMLHQ",
        "outputId": "b9d1e461-9ca9-4a21-adcd-4837473a219f"
      },
      "execution_count": 7,
      "outputs": [
        {
          "output_type": "execute_result",
          "data": {
            "text/plain": [
              "{'One': 1, 'Two': 2, 'Three': 3, 'Four': 4, 'Five': 5, 'Six': 6}"
            ]
          },
          "metadata": {},
          "execution_count": 7
        }
      ]
    },
    {
      "cell_type": "markdown",
      "source": [
        "##Задача 2\n",
        "\n",
        "Напишите функцию, которая из двух списков, делает один словарь, где элементы из первого списка - ключи, а элементы из второго списка - значения.\n",
        "\n",
        "keys = ['One', 'Two', 'Three'] values = [1, 2, 3]\n",
        "\n",
        "Используйте аннотирование типов.\n",
        "\n",
        "###2.1\n",
        "\n",
        "Используя цикл for."
      ],
      "metadata": {
        "id": "6jzn5J0RNfUk"
      }
    },
    {
      "cell_type": "code",
      "source": [
        "keys = ['One', 'Two', 'Three']\n",
        "values = [1, 2, 3]\n",
        "\n",
        "def dict_from_lists_1(keys: list, values: list) -> dict:\n",
        "    dict_new = {}\n",
        "    for i in range(len(keys)):\n",
        "        dict_new.update({keys[i]: values[i]})\n",
        "    return dict_new\n"
      ],
      "metadata": {
        "id": "Kvmld2WuNrAQ"
      },
      "execution_count": 12,
      "outputs": []
    },
    {
      "cell_type": "code",
      "source": [
        "dict_from_lists_1(keys, values)"
      ],
      "metadata": {
        "colab": {
          "base_uri": "https://localhost:8080/"
        },
        "id": "mn5EmZGrQtwF",
        "outputId": "e8cae053-7eaf-4c37-903f-a155b9dc263f"
      },
      "execution_count": 14,
      "outputs": [
        {
          "output_type": "execute_result",
          "data": {
            "text/plain": [
              "{'One': 1, 'Two': 2, 'Three': 3}"
            ]
          },
          "metadata": {},
          "execution_count": 14
        }
      ]
    },
    {
      "cell_type": "markdown",
      "source": [
        "###2.2\n",
        "\n",
        "Используя dict comprehensions."
      ],
      "metadata": {
        "id": "iJneC147RLHR"
      }
    },
    {
      "cell_type": "code",
      "source": [
        "def dict_from_lists_2(keys: list, values: list) -> dict:   \n",
        "  new_dict={keys[i]:values[i] for i in range(len(keys))}\n",
        "  return new_dict"
      ],
      "metadata": {
        "id": "DgCbHKb3RPp3"
      },
      "execution_count": 15,
      "outputs": []
    },
    {
      "cell_type": "code",
      "source": [
        "dict_from_lists_2(keys, values)"
      ],
      "metadata": {
        "colab": {
          "base_uri": "https://localhost:8080/"
        },
        "id": "fGeezRh7SMTq",
        "outputId": "39f5b6de-1e66-45be-ac0a-18066050d837"
      },
      "execution_count": 16,
      "outputs": [
        {
          "output_type": "execute_result",
          "data": {
            "text/plain": [
              "{'One': 1, 'Two': 2, 'Three': 3}"
            ]
          },
          "metadata": {},
          "execution_count": 16
        }
      ]
    },
    {
      "cell_type": "markdown",
      "source": [
        "##Задача 3\n",
        "\n",
        "Извлеките только два ключа name и age из представленного словаря.\n",
        "\n",
        "client_dict = { \"name\":\"John\", \"age\":\"25\", \"salary\":5000, \"city\":\"Moscow\" }\n",
        "\n"
      ],
      "metadata": {
        "id": "oBtXr8beTOcO"
      }
    },
    {
      "cell_type": "code",
      "source": [
        "client_dict = {'name':'John', 'age':'25', 'salary':5000, 'city':'Moscow'}\n",
        "client_dict['name'],client_dict['age']"
      ],
      "metadata": {
        "colab": {
          "base_uri": "https://localhost:8080/"
        },
        "id": "47zGFiXbUF13",
        "outputId": "b7299229-b010-40f5-ce74-9e67ac25d7a6"
      },
      "execution_count": 22,
      "outputs": [
        {
          "output_type": "execute_result",
          "data": {
            "text/plain": [
              "('John', '25')"
            ]
          },
          "metadata": {},
          "execution_count": 22
        }
      ]
    },
    {
      "cell_type": "markdown",
      "source": [
        "### 3.1\n",
        "\n",
        "Напишите функцию с циклом for. Функция на вход принимает:\n",
        "\n",
        "исходный словарь;\n",
        "\n",
        "ключи, которые нужно извлечь (аргумент по умолчанию);\n",
        "\n",
        "\n",
        "На выходе словарь с нужными ключами. Используйте аннотирование типов."
      ],
      "metadata": {
        "id": "N9nEBy-7Vg-q"
      }
    },
    {
      "cell_type": "code",
      "source": [
        "def select_keys(dict1: dict, keys_list: list = ['name', 'age']) -> dict:\n",
        "    dict_new = {}\n",
        "    for i in range(len(keys_list)):\n",
        "        dict_new.update({keys_list[i]: dict1[keys_list[i]]})\n",
        "    return dict_new"
      ],
      "metadata": {
        "id": "_TLuWtMUVlw5"
      },
      "execution_count": 31,
      "outputs": []
    },
    {
      "cell_type": "code",
      "source": [
        "select_keys(client_dict)\n"
      ],
      "metadata": {
        "colab": {
          "base_uri": "https://localhost:8080/"
        },
        "id": "3YZuJOg5W-OL",
        "outputId": "8f04a27e-e7b1-4650-c777-4d8970a2ddc3"
      },
      "execution_count": 32,
      "outputs": [
        {
          "output_type": "execute_result",
          "data": {
            "text/plain": [
              "{'name': 'John', 'age': '25'}"
            ]
          },
          "metadata": {},
          "execution_count": 32
        }
      ]
    },
    {
      "cell_type": "markdown",
      "source": [
        "###3.2\n",
        "\n",
        "Используя dict comprehensions."
      ],
      "metadata": {
        "id": "ML8yPMuPXpuD"
      }
    },
    {
      "cell_type": "code",
      "source": [
        "def select_keys_2(dict1: dict, keys_list: list = ['name', 'age']) -> dict:\n",
        "  dict_new = {i:dict1[i] for i in keys_list}\n",
        "  return dict_new"
      ],
      "metadata": {
        "id": "wVJKTngjXjuN"
      },
      "execution_count": 37,
      "outputs": []
    },
    {
      "cell_type": "code",
      "source": [
        "select_keys_2(client_dict)"
      ],
      "metadata": {
        "colab": {
          "base_uri": "https://localhost:8080/"
        },
        "id": "PfwQHvuHYYi1",
        "outputId": "ae8d8b83-3104-45c4-ca38-44a7c0aad368"
      },
      "execution_count": 38,
      "outputs": [
        {
          "output_type": "execute_result",
          "data": {
            "text/plain": [
              "{'name': 'John', 'age': '25'}"
            ]
          },
          "metadata": {},
          "execution_count": 38
        }
      ]
    },
    {
      "cell_type": "markdown",
      "source": [
        "##Задача 4\n",
        "\n",
        "###4.1\n",
        "\n",
        "Сгенерируйте случайные целые числа от 0 до 100 в количестве 5 штук с помощью модуля random.\n",
        "\n",
        "Зафиксируйте псевдогенерацию, чтобы сгенерированные значения всегда были одинаковые;\n",
        "\n",
        "используйте list comprehensions;"
      ],
      "metadata": {
        "id": "GpYBxKirY1Yb"
      }
    },
    {
      "cell_type": "code",
      "source": [
        "import random"
      ],
      "metadata": {
        "id": "mfwZH1eBY9Hu"
      },
      "execution_count": 39,
      "outputs": []
    },
    {
      "cell_type": "code",
      "source": [
        "random.seed(10)\n",
        "new_rando_list=[random.randint(0,100) for i in range(5)]\n",
        "new_rando_list"
      ],
      "metadata": {
        "colab": {
          "base_uri": "https://localhost:8080/"
        },
        "id": "DQE5CgiBZILT",
        "outputId": "83ee6d97-f335-4655-8940-be1dfc130493"
      },
      "execution_count": 42,
      "outputs": [
        {
          "output_type": "execute_result",
          "data": {
            "text/plain": [
              "[73, 4, 54, 61, 73]"
            ]
          },
          "metadata": {},
          "execution_count": 42
        }
      ]
    },
    {
      "cell_type": "markdown",
      "source": [
        "###4.2\n",
        "\n",
        "- генератор на вход принимает список с данными о клиенте (данные из пункта 4.1);\n",
        "- внутри генератора реализуйте обход по списку с данными;\n",
        "\n",
        "\n",
        "На каждой итерации генератор будет возвращать кортеж из двух элементов:\n",
        "\n",
        "1. Данные по клиенту (в зависимости от итерации, на 0 итерации вернется 0 элемент, на 1 итерации вернется 1 элемент и т.д.).\n",
        "\n",
        "2. Целочисленное значение, которое показывает, сколько секунд прошло с предыдущей итерации.\n",
        "\n",
        "Примечание: секунды, которые возвращаются должны показывать время не с начала запуска генератора, а именно то время, которое прошло с предыдущей итерации. А значит время на первой итерации должно равняться 0.\n",
        "\n",
        "- используйте функцию time из модуля time для подсчета времени;\n",
        "- чтобы проверить работу таймера, запустите проход по генератору в цикле с time.sleep(2);"
      ],
      "metadata": {
        "id": "67tWCDkpbJm5"
      }
    },
    {
      "cell_type": "code",
      "source": [
        "import time\n",
        "\n",
        "\n",
        "def generator_1(input_list: list) -> tuple:\n",
        "    prev_time = None\n",
        "    for item in input_list:\n",
        "        current_time = time.time()\n",
        "        if prev_time:\n",
        "            diff = current_time - prev_time\n",
        "        else:\n",
        "            diff = 0\n",
        "        prev_time = time.time()\n",
        "        yield (item, int(diff))"
      ],
      "metadata": {
        "id": "sAwozzPJb63k"
      },
      "execution_count": 43,
      "outputs": []
    },
    {
      "cell_type": "code",
      "source": [
        "for i in generator_1(new_rando_list):\n",
        "    print(i)\n",
        "    time.sleep(2)"
      ],
      "metadata": {
        "colab": {
          "base_uri": "https://localhost:8080/"
        },
        "id": "9TKAdVDQl70k",
        "outputId": "cae05ddb-9bb5-4fe4-f2c6-c0ee4ec588ff"
      },
      "execution_count": 45,
      "outputs": [
        {
          "output_type": "stream",
          "name": "stdout",
          "text": [
            "(73, 0)\n",
            "(4, 2)\n",
            "(54, 2)\n",
            "(61, 2)\n",
            "(73, 2)\n"
          ]
        }
      ]
    },
    {
      "cell_type": "markdown",
      "source": [
        "##Задача 5\n",
        "\n",
        "###5.1\n",
        "\n",
        "Найдите картинку в интернете и прикрепите её в ячейку с текстом\n",
        "5.2 Создайте следующую таблицу в ячейке с текстом"
      ],
      "metadata": {
        "id": "O-a_V398m6QJ"
      }
    },
    {
      "cell_type": "markdown",
      "source": [
        "<img src=\"https://avatars.dzeninfra.ru/get-zen_doc/34175/pub_5cea2361585c2f00b5c9cb0b_5cea310a752e5b00b25b9c01/scale_1200\" alt=\"drawing\" width=\"200\"/>"
      ],
      "metadata": {
        "id": "gMcp9ihGnjhy"
      }
    },
    {
      "cell_type": "markdown",
      "source": [
        "###5.2 \n",
        "\n",
        "Создайте следующую таблицу в ячейке с текстом"
      ],
      "metadata": {
        "id": "5xAk7AFCnx9w"
      }
    },
    {
      "cell_type": "markdown",
      "source": [
        "<table>\n",
        "  <tr>\n",
        "    <td></td>\n",
        "    <td>До события</td>\n",
        "    <td>во время</td>\n",
        "  </tr>\n",
        "  <tr>\n",
        "    <td>2к.т</td>\n",
        "    <td>350</td>\n",
        "    <td>700</td>\n",
        "  </tr>\n",
        "  <tr>\n",
        "    <td>3к.т</td>\n",
        "    <td>400</td>\n",
        "    <td>800</td>\n",
        "  </tr>\n",
        "  <tr>\n",
        "    <td>Итого за победу</td>\n",
        "    <td>1000</td>\n",
        "    <td>2000</td>\n",
        "  </tr>\n",
        "  </table>"
      ],
      "metadata": {
        "id": "c8zN4hv9nmF3"
      }
    },
    {
      "cell_type": "markdown",
      "source": [
        "##Задача 6\n",
        "\n",
        "Напишите функцию, которая может принимать любое количество трат пользователя и считать сумму и среднее.\n",
        "\n",
        "На вход поступают целочисленные значения в любом количестве.\n",
        "\n",
        "На выходе словарь с ключами суммы трат и средней траты.\n"
      ],
      "metadata": {
        "id": "oWzlWbhooBC3"
      }
    },
    {
      "cell_type": "code",
      "source": [
        "def func(*args:int)->int:\n",
        "  return {sum(args):round(sum(args)/len(args))}"
      ],
      "metadata": {
        "id": "Y_pXw0PRoLyo"
      },
      "execution_count": 48,
      "outputs": []
    },
    {
      "cell_type": "code",
      "source": [
        "func(1, 2, 4, 6, 76)"
      ],
      "metadata": {
        "colab": {
          "base_uri": "https://localhost:8080/"
        },
        "id": "61jSEuTWou71",
        "outputId": "3aba2724-0041-49db-8027-e0aa303c32e7"
      },
      "execution_count": 49,
      "outputs": [
        {
          "output_type": "execute_result",
          "data": {
            "text/plain": [
              "{89: 18}"
            ]
          },
          "metadata": {},
          "execution_count": 49
        }
      ]
    }
  ]
}
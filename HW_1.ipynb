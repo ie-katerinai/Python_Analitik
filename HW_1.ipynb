{
  "nbformat": 4,
  "nbformat_minor": 0,
  "metadata": {
    "colab": {
      "provenance": [],
      "authorship_tag": "ABX9TyPu7SpZuutt6EAwNJXoDGSB",
      "include_colab_link": true
    },
    "kernelspec": {
      "name": "python3",
      "display_name": "Python 3"
    },
    "language_info": {
      "name": "python"
    }
  },
  "cells": [
    {
      "cell_type": "markdown",
      "metadata": {
        "id": "view-in-github",
        "colab_type": "text"
      },
      "source": [
        "<a href=\"https://colab.research.google.com/github/ie-katerinai/Python_Analitik/blob/main/HW_1.ipynb\" target=\"_parent\"><img src=\"https://colab.research.google.com/assets/colab-badge.svg\" alt=\"Open In Colab\"/></a>"
      ]
    },
    {
      "cell_type": "markdown",
      "source": [
        "##Задача 1\n",
        "\n",
        "На складе лежат разные фрукты в разном количестве.\n",
        "\n",
        "Нужно написать функцию, которая на вход принимает любое количество названий фруктов и их количество, а возвращает общее количество фруктов на складе."
      ],
      "metadata": {
        "id": "mKUcuY3brq1C"
      }
    },
    {
      "cell_type": "code",
      "execution_count": 1,
      "metadata": {
        "id": "e1prhJWCrmJZ"
      },
      "outputs": [],
      "source": [
        "def summ_fruts(kwargs) -> int:\n",
        "    result = 0\n",
        "    for key, value in kwargs.items():\n",
        "        result += value\n",
        "    print(result)"
      ]
    },
    {
      "cell_type": "code",
      "source": [
        "fruts = {\n",
        "    'apple': 22,\n",
        "    'pineapple': 8,\n",
        "    'melon': 10,\n",
        "    'grapes': 5,\n",
        "    'lemon': 5,\n",
        "    'pear': 7,\n",
        "    'orange': 4,\n",
        "    'banana': 9,\n",
        "    'peach': 3,\n",
        "    'kiwi': 16,\n",
        "    'lime': 25,\n",
        "    'fig': 46,\n",
        "    'mango': 14,\n",
        "    'apricot': 6,\n",
        "    'avocado': 11\n",
        "}\n",
        "summ_fruts(fruts)"
      ],
      "metadata": {
        "colab": {
          "base_uri": "https://localhost:8080/"
        },
        "id": "cod0klrzt_ZD",
        "outputId": "02d05720-16a8-45a2-b5a6-dcb8bb6a9512"
      },
      "execution_count": 3,
      "outputs": [
        {
          "output_type": "stream",
          "name": "stdout",
          "text": [
            "191\n"
          ]
        }
      ]
    },
    {
      "cell_type": "markdown",
      "source": [
        "##Задача 2\n",
        " \n",
        "Дан список с затратами на рекламу. Но в данных есть ошибки, некоторые затраты имеют отрицательную величину. Удалите такие значения из списка и посчитайте суммарные затраты\n",
        "[100, 125, -90, 345, 655, -1, 0, 200].\n",
        "\n",
        "Используйте list comprehensions"
      ],
      "metadata": {
        "id": "UlU8YMOGzszM"
      }
    },
    {
      "cell_type": "code",
      "source": [
        "origin_prices=[100, 125, -90, 345, 655, -1, 0, 200]\n",
        "prise = [i if i>0 else 0 for i in origin_prices]\n",
        "prise"
      ],
      "metadata": {
        "colab": {
          "base_uri": "https://localhost:8080/"
        },
        "id": "x3oXIVbhz2xr",
        "outputId": "eed3fa59-7cf0-4635-eb79-e8dfd38724e1"
      },
      "execution_count": 21,
      "outputs": [
        {
          "output_type": "execute_result",
          "data": {
            "text/plain": [
              "[100, 125, 0, 345, 655, 0, 0, 200]"
            ]
          },
          "metadata": {},
          "execution_count": 21
        }
      ]
    },
    {
      "cell_type": "markdown",
      "source": [
        "Сумму можно посчитать через цикл."
      ],
      "metadata": {
        "id": "A9G7ybaB4J83"
      }
    },
    {
      "cell_type": "code",
      "source": [
        "sum = 0\n",
        "for item in prise:\n",
        "    sum+=item\n",
        "sum"
      ],
      "metadata": {
        "colab": {
          "base_uri": "https://localhost:8080/"
        },
        "id": "C3q_6U4l3t8H",
        "outputId": "fa92cdc4-2e7c-4ec5-dd30-4d2eaef03b2d"
      },
      "execution_count": 22,
      "outputs": [
        {
          "output_type": "execute_result",
          "data": {
            "text/plain": [
              "1425"
            ]
          },
          "metadata": {},
          "execution_count": 22
        }
      ]
    },
    {
      "cell_type": "markdown",
      "source": [
        "Можно через функцию."
      ],
      "metadata": {
        "id": "tMcS6gEg4FrJ"
      }
    },
    {
      "cell_type": "code",
      "source": [
        "def calc_sum(prise:list)-> int:\n",
        "  sum = 0\n",
        "  for item in prise:\n",
        "    sum+=item\n",
        "  return sum"
      ],
      "metadata": {
        "id": "pUE-oTMe1Ni6"
      },
      "execution_count": 18,
      "outputs": []
    },
    {
      "cell_type": "code",
      "source": [
        "print(calc_sum(prise))"
      ],
      "metadata": {
        "colab": {
          "base_uri": "https://localhost:8080/"
        },
        "id": "lSU8UOTG2ern",
        "outputId": "c7deaa55-65fc-4ee8-b7f1-4e48b5ccaa77"
      },
      "execution_count": 19,
      "outputs": [
        {
          "output_type": "stream",
          "name": "stdout",
          "text": [
            "1425\n"
          ]
        }
      ]
    },
    {
      "cell_type": "markdown",
      "source": [
        "##Задача 3\n",
        "\n",
        "Даны два списка.\n",
        "\n",
        "Дата покупки:\n",
        "\n",
        "['2021-09-14', '2021-12-15', '2021-09-08', '2021-12-05', '2021-10-09', '2021-09-30', '2021-12-22', '2021-11-29', '2021-12-24', '2021-11-26', '2021-10-27', '2021-12-18', '2021-11-09', '2021-11-23', '2021-09-27', '2021-10-02', '2021-12-27', '2021-09-20', '2021-12-13', '2021-11-01', '2021-11-09', '2021-12-06', '2021-12-08', '2021-10-09', '2021-10-31', '2021-09-30', '2021-11-09', '2021-12-13', '2021-10-26', '2021-12-09']\n",
        "\n",
        "Суммы покупок по датам:\n",
        "\n",
        "[1270, 8413, 9028, 3703, 5739, 4095, 295, 4944, 5723, 3701, 4471, 651, 7037, 4274, 6275, 4988, 6930, 2971, 6592, 2004, 2822, 519, 3406, 2732, 5015, 2008, 316, 6333, 5700, 2887]\n",
        "###4.1 \n",
        "\n",
        "Найдите, какая выручка у компании в ноябре.\n",
        "Используйте list comprehensions.\n",
        "###4.2 \n",
        "\n",
        "Найдите выручку компании в зависимости от месяца.\n",
        "\n",
        "Для этого напишите функцию, которая на вход принимает список с датами и список с выручкой, а на выходе словарь, где ключи - это месяцы, а значения - это выручка.\n",
        "\n",
        "Используйте аннотирование типов."
      ],
      "metadata": {
        "id": "ZTD5FPvh4ZCq"
      }
    },
    {
      "cell_type": "code",
      "source": [
        "date = ['2021-09-14', '2021-12-15', '2021-09-08', '2021-12-05', '2021-10-09',\\\n",
        "        '2021-09-30', '2021-12-22', '2021-11-29', '2021-12-24', '2021-11-26',\\\n",
        "        '2021-10-27', '2021-12-18', '2021-11-09', '2021-11-23', '2021-09-27',\\\n",
        "        '2021-10-02', '2021-12-27', '2021-09-20', '2021-12-13', '2021-11-01',\\\n",
        "        '2021-11-09', '2021-12-06', '2021-12-08', '2021-10-09', '2021-10-31',\\\n",
        "        '2021-09-30', '2021-11-09', '2021-12-13', '2021-10-26', '2021-12-09']"
      ],
      "metadata": {
        "id": "M6iLO_Ae5BOW"
      },
      "execution_count": 2,
      "outputs": []
    },
    {
      "cell_type": "code",
      "source": [
        "summa = [1270, 8413, 9028, 3703, 5739, 4095, 295, 4944, 5723, 3701, 4471, 651, 7037, 4274, 6275, 4988, 6930, 2971, 6592, 2004, 2822, 519, 3406, 2732, 5015, 2008, 316, 6333, 5700, 2887]"
      ],
      "metadata": {
        "id": "3Yg-vJyl6h6X"
      },
      "execution_count": 3,
      "outputs": []
    },
    {
      "cell_type": "code",
      "source": [
        "monthses = [d[5:-3] for d in date]\n",
        "monthses"
      ],
      "metadata": {
        "colab": {
          "base_uri": "https://localhost:8080/"
        },
        "id": "R-NZwXGt_Zg9",
        "outputId": "e486fe41-8d3e-4dc0-b91a-59fd21a14b53"
      },
      "execution_count": 4,
      "outputs": [
        {
          "output_type": "execute_result",
          "data": {
            "text/plain": [
              "['09',\n",
              " '12',\n",
              " '09',\n",
              " '12',\n",
              " '10',\n",
              " '09',\n",
              " '12',\n",
              " '11',\n",
              " '12',\n",
              " '11',\n",
              " '10',\n",
              " '12',\n",
              " '11',\n",
              " '11',\n",
              " '09',\n",
              " '10',\n",
              " '12',\n",
              " '09',\n",
              " '12',\n",
              " '11',\n",
              " '11',\n",
              " '12',\n",
              " '12',\n",
              " '10',\n",
              " '10',\n",
              " '09',\n",
              " '11',\n",
              " '12',\n",
              " '10',\n",
              " '12']"
            ]
          },
          "metadata": {},
          "execution_count": 4
        }
      ]
    },
    {
      "cell_type": "markdown",
      "source": [
        "Решение через цикл"
      ],
      "metadata": {
        "id": "-nBJYPJqmJ7m"
      }
    },
    {
      "cell_type": "code",
      "source": [
        "summ = 0\n",
        "new_list = []\n",
        "for i in range(len(summa)):\n",
        "  if monthses[i] == '11':\n",
        "    summ+=summa[i]\n",
        "new_list.append(summ)\n",
        "print(new_list)"
      ],
      "metadata": {
        "colab": {
          "base_uri": "https://localhost:8080/"
        },
        "id": "EtjCxDq1Kpkj",
        "outputId": "78e268c3-d806-4d06-a687-07eee44d5548"
      },
      "execution_count": 5,
      "outputs": [
        {
          "output_type": "stream",
          "name": "stdout",
          "text": [
            "[25098]\n"
          ]
        }
      ]
    },
    {
      "cell_type": "markdown",
      "source": [
        "Или"
      ],
      "metadata": {
        "id": "uxTUZLzkpa7B"
      }
    },
    {
      "cell_type": "code",
      "source": [
        "index_list = [i for i in range(len(monthses)) if (int(monthses[i]))==11]\n",
        "index_list"
      ],
      "metadata": {
        "colab": {
          "base_uri": "https://localhost:8080/"
        },
        "id": "djYcMHeYm2ms",
        "outputId": "1ddeab90-2bb0-4ec9-c491-7cc617b134ed"
      },
      "execution_count": 15,
      "outputs": [
        {
          "output_type": "execute_result",
          "data": {
            "text/plain": [
              "[7, 9, 12, 13, 19, 20, 26]"
            ]
          },
          "metadata": {},
          "execution_count": 15
        }
      ]
    },
    {
      "cell_type": "code",
      "source": [
        "new_list_summa=[summa[index_list[i]] for i in range(len(index_list))]\n",
        "new_list_summa"
      ],
      "metadata": {
        "colab": {
          "base_uri": "https://localhost:8080/"
        },
        "id": "9xEi9Bt2qmXi",
        "outputId": "0087fea0-2be6-4078-bdea-56a5225d3d02"
      },
      "execution_count": 18,
      "outputs": [
        {
          "output_type": "execute_result",
          "data": {
            "text/plain": [
              "[4944, 3701, 7037, 4274, 2004, 2822, 316]"
            ]
          },
          "metadata": {},
          "execution_count": 18
        }
      ]
    },
    {
      "cell_type": "code",
      "source": [
        "sum(new_list_summa)"
      ],
      "metadata": {
        "colab": {
          "base_uri": "https://localhost:8080/"
        },
        "id": "n_ATD7RgrNVT",
        "outputId": "d52aa5a2-750e-4ec7-e46e-bedc985edb6f"
      },
      "execution_count": 21,
      "outputs": [
        {
          "output_type": "execute_result",
          "data": {
            "text/plain": [
              "25098"
            ]
          },
          "metadata": {},
          "execution_count": 21
        }
      ]
    }
  ]
}